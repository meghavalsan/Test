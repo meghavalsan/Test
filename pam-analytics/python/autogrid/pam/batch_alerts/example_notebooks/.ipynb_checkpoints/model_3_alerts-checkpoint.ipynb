{
 "cells": [
  {
   "cell_type": "markdown",
   "metadata": {
    "deletable": true,
    "editable": true
   },
   "source": [
    "# I. Overview:"
   ]
  },
  {
   "cell_type": "markdown",
   "metadata": {
    "collapsed": true,
    "deletable": true,
    "editable": true
   },
   "source": [
    "* This ipython notebook utilizes the __batch_alerts module__ to generate near real time alerts for feeder level outages\n",
    "* Inputs:\n",
    "    * Daily raw data (edna, ami, scada) from FPL (in csv form)\n",
    "    * Meta data on the feeders (for ami anomaly transformation)\n",
    "    * Congiguration files\n",
    "    * pkl clf model\n",
    "* Outputs:\n",
    "    * dictionary of alerter:\n",
    "        * key = feeder\n",
    "        * value = alerter (collection of alerts) of a feeder "
   ]
  },
  {
   "cell_type": "markdown",
   "metadata": {
    "deletable": true,
    "editable": true
   },
   "source": [
    "# II. Libraries:"
   ]
  },
  {
   "cell_type": "code",
   "execution_count": 1,
   "metadata": {
    "collapsed": true,
    "deletable": true,
    "editable": true
   },
   "outputs": [],
   "source": [
    "from autogrid.pam.anomaly import anomaly\n",
    "from autogrid.pam.alert import alert \n",
    "from batch_alerts import BatchAlerts\n",
    "\n",
    "import cPickle as pickle\n",
    "import pandas as pd"
   ]
  },
  {
   "cell_type": "markdown",
   "metadata": {
    "deletable": true,
    "editable": true
   },
   "source": [
    "# III. Functions:"
   ]
  },
  {
   "cell_type": "code",
   "execution_count": 2,
   "metadata": {
    "collapsed": true,
    "deletable": true,
    "editable": true
   },
   "outputs": [],
   "source": [
    "# function #1:\n",
    "def combine_preds_df(alerts_dict):\n",
    "    '''\n",
    "    PURPOSE:\n",
    "        - combine prediction table of different fdrs into one df\n",
    "    INPUT:\n",
    "        - alerts_dict (dict; keys: fdr id; values; alerter object)\n",
    "    OUTPUT:\n",
    "        - preds_df (df of combined preds with sigantures)\n",
    "    '''\n",
    "    first = True\n",
    "    for fdr in alerts_dict.keys():\n",
    "        if alerts_dict[fdr].preds.empty:\n",
    "            continue\n",
    "        else:\n",
    "            loc_preds_table = alerts_dict[fdr].preds\n",
    "            loc_preds_table = pd.concat([loc_preds_table, alerts_dict[fdr].X], axis=1)            \n",
    "        if first:\n",
    "            preds_table = loc_preds_table\n",
    "            first = False\n",
    "        else:\n",
    "            preds_table = pd.concat([preds_table, loc_preds_table])\n",
    "            \n",
    "    return preds_table"
   ]
  },
  {
   "cell_type": "markdown",
   "metadata": {
    "deletable": true,
    "editable": true
   },
   "source": [
    "# IV. Decalre Variables:"
   ]
  },
  {
   "cell_type": "code",
   "execution_count": 3,
   "metadata": {
    "collapsed": true,
    "deletable": true,
    "editable": true
   },
   "outputs": [],
   "source": [
    "# i. model name:\n",
    "m_id, n_jobs = 'model_3_0', 7\n",
    "# ii. dates:\n",
    "start_date, end_date =\\\n",
    "    pd.datetime(2017, 6, 13).date(), pd.datetime(2017, 6, 14).date()\n",
    "# iii. pwds:\n",
    "raw_data_pwd =\\\n",
    "    '/Users/meghavalsan/Dropbox (AutoGrid)/sqlfiles/'\n",
    "meta_pwd =\\\n",
    "    '/Users/meghavalsan/megha_github/model3files/feedermeta/'\n",
    "model_pwd =\\\n",
    "    '/Users/meghavalsan/megha_github/model3files/modelpkl/model_v_3_0.pkl'\n",
    "config_pwd =\\\n",
    "    '/Users/meghavalsan/megha_github/model3files/config/‘\n",
    "dataset_config_pwd =\\\n",
    "    config_pwd + 'pam_3_0_dataset.yaml'\n",
    "anomaly_map_pwd =\\\n",
    "    config_pwd + 'pam_3_0_anoms_anomaly_map.yaml'\n",
    "alert_config_pwd =\\\n",
    "    config_pwd + 'pam_master_alert.yaml'"
   ]
  },
  {
   "cell_type": "markdown",
   "metadata": {
    "deletable": true,
    "editable": true
   },
   "source": [
    "# V. Alerts Generation:"
   ]
  },
  {
   "cell_type": "code",
   "execution_count": 4,
   "metadata": {
    "collapsed": true,
    "deletable": true,
    "editable": true
   },
   "outputs": [],
   "source": [
    "# i. initiate class:\n",
    "june_13_14_2017_alerts = BatchAlerts(\n",
    "    n_jobs, start_date, end_date,\n",
    "    raw_data_pwd, meta_pwd)"
   ]
  },
  {
   "cell_type": "code",
   "execution_count": 5,
   "metadata": {
    "collapsed": false,
    "deletable": true,
    "editable": true
   },
   "outputs": [
    {
     "name": "stderr",
     "output_type": "stream",
     "text": [
      "/Users/erichsieh/miniconda2/envs/pam_modeling_e/lib/python2.7/site-packages/IPython/core/interactiveshell.py:2881: DtypeWarning: Columns (4) have mixed types. Specify dtype option on import or set low_memory=False.\n",
      "  exec(code_obj, self.user_global_ns, self.user_ns)\n"
     ]
    }
   ],
   "source": [
    "# ii. load data:\n",
    "june_13_14_2017_alerts.load_data()"
   ]
  },
  {
   "cell_type": "code",
   "execution_count": 6,
   "metadata": {
    "collapsed": false,
    "deletable": true,
    "editable": true
   },
   "outputs": [
    {
     "name": "stdout",
     "output_type": "stream",
     "text": [
      "Launching 7 jobs for scada data!\n"
     ]
    },
    {
     "name": "stderr",
     "output_type": "stream",
     "text": [
      "[Parallel(n_jobs=7)]: Done   1 out of   7 | elapsed:   15.7s remaining:  1.6min\n",
      "[Parallel(n_jobs=7)]: Done   7 out of   7 | elapsed:   17.1s finished\n"
     ]
    },
    {
     "name": "stdout",
     "output_type": "stream",
     "text": [
      "Launching 7 jobs for ami data!\n",
      "fdr 208864 is not in meta df!\n",
      "fdr 800831 is not in meta df!\n",
      "fdr 813135 is not in meta df!\n",
      "fdr 408668 is not in meta df!\n",
      "fdr 814131 is not in meta df!\n",
      "fdr 208167 is not in meta df!\n",
      "fdr 811432 is not in meta df!\n",
      "fdr 400239 is not in meta df!\n"
     ]
    },
    {
     "name": "stderr",
     "output_type": "stream",
     "text": [
      "[Parallel(n_jobs=7)]: Done   1 out of   7 | elapsed:   18.2s remaining:  1.8min\n"
     ]
    },
    {
     "name": "stdout",
     "output_type": "stream",
     "text": [
      "fdr 808163 is not in meta df!\n",
      "fdr 108434 is not in meta df!\n",
      "fdr 811364 is not in meta df!\n",
      "fdr 800846 is not in meta df!\n",
      "fdr 812363 is not in meta df!\n",
      "fdr 507165 is not in meta df!\n",
      "fdr 408566 is not in meta df!\n",
      "fdr 408565 is not in meta df!\n",
      "fdr 403238 is not in meta df!\n",
      "fdr 109035 is not in meta df!\n",
      "fdr 807338 is not in meta df!\n",
      "fdr 802138 is not in meta df!\n",
      "fdr 104432 is not in meta df!\n",
      "fdr 409863 is not in meta df!\n",
      "fdr 401763 is not in meta df!\n",
      "fdr 410033 is not in meta df!\n",
      "fdr 412261 is not in meta df!\n",
      "fdr 108963 is not in meta df!\n",
      "fdr 813139 is not in meta df!\n",
      "fdr 204634 is not in meta df!\n",
      "fdr 403631 is not in meta df!\n",
      "fdr 800135 is not in meta df!\n",
      "fdr 704070 is not in meta df!\n",
      "fdr 505861 is not in meta df!\n",
      "fdr 800336 is not in meta df!\n",
      "fdr 812165 is not in meta df!\n",
      "fdr 400665 is not in meta df!\n",
      "fdr 508465 is not in meta df!\n",
      "fdr 709161 is not in meta df!\n",
      "fdr 402731 is not in meta df!\n",
      "fdr 407335 is not in meta df!\n",
      "fdr 811938 is not in meta df!\n",
      "fdr 412262 is not in meta df!\n",
      "fdr 814132 is not in meta df!\n",
      "fdr 813136 is not in meta df!\n",
      "fdr 203540 is not in meta df!\n",
      "fdr 703037 is not in meta df!\n",
      "fdr 508163 is not in meta df!\n",
      "fdr 209765 is not in meta df!\n",
      "fdr 707864 is not in meta df!\n",
      "fdr 410032 is not in meta df!\n",
      "fdr 804339 is not in meta df!\n",
      "fdr 701437 is not in meta df!\n",
      "fdr 807736 is not in meta df!\n",
      "fdr 508263 is not in meta df!\n",
      "fdr 504764 is not in meta df!\n",
      "fdr 207064 is not in meta df!\n",
      "fdr 501436 is not in meta df!\n",
      "fdr 507365 is not in meta df!\n",
      "fdr 809338 is not in meta df!\n"
     ]
    },
    {
     "name": "stderr",
     "output_type": "stream",
     "text": [
      "[Parallel(n_jobs=7)]: Done   7 out of   7 | elapsed:   53.5s finished\n"
     ]
    },
    {
     "name": "stdout",
     "output_type": "stream",
     "text": [
      "Launching 7 jobs for edna data!\n"
     ]
    },
    {
     "name": "stderr",
     "output_type": "stream",
     "text": [
      "[Parallel(n_jobs=7)]: Done   1 out of   7 | elapsed: 10.3min remaining: 62.0min\n",
      "[Parallel(n_jobs=7)]: Done   7 out of   7 | elapsed: 40.7min finished\n"
     ]
    }
   ],
   "source": [
    "# iii. process anomalies:\n",
    "june_13_14_2017_alerts.generates_anomalies()"
   ]
  },
  {
   "cell_type": "code",
   "execution_count": 7,
   "metadata": {
    "collapsed": false,
    "deletable": true,
    "editable": true,
    "scrolled": true
   },
   "outputs": [
    {
     "name": "stderr",
     "output_type": "stream",
     "text": [
      "/Users/erichsieh/miniconda2/envs/pam_modeling_e/lib/python2.7/site-packages/pandas/core/generic.py:2387: SettingWithCopyWarning: \n",
      "A value is trying to be set on a copy of a slice from a DataFrame.\n",
      "Try using .loc[row_indexer,col_indexer] = value instead\n",
      "\n",
      "See the caveats in the documentation: http://pandas.pydata.org/pandas-docs/stable/indexing.html#indexing-view-versus-copy\n",
      "  self[name] = value\n",
      "/Users/erichsieh/miniconda2/envs/pam_modeling_e/lib/python2.7/site-packages/pandas/core/generic.py:2387: SettingWithCopyWarning: \n",
      "A value is trying to be set on a copy of a slice from a DataFrame.\n",
      "Try using .loc[row_indexer,col_indexer] = value instead\n",
      "\n",
      "See the caveats in the documentation: http://pandas.pydata.org/pandas-docs/stable/indexing.html#indexing-view-versus-copy\n",
      "  self[name] = value\n",
      "/Users/erichsieh/miniconda2/envs/pam_modeling_e/lib/python2.7/site-packages/pandas/core/generic.py:2387: SettingWithCopyWarning: \n",
      "A value is trying to be set on a copy of a slice from a DataFrame.\n",
      "Try using .loc[row_indexer,col_indexer] = value instead\n",
      "\n",
      "See the caveats in the documentation: http://pandas.pydata.org/pandas-docs/stable/indexing.html#indexing-view-versus-copy\n",
      "  self[name] = value\n",
      "/Users/erichsieh/miniconda2/envs/pam_modeling_e/lib/python2.7/site-packages/pandas/core/generic.py:2387: SettingWithCopyWarning: \n",
      "A value is trying to be set on a copy of a slice from a DataFrame.\n",
      "Try using .loc[row_indexer,col_indexer] = value instead\n",
      "\n",
      "See the caveats in the documentation: http://pandas.pydata.org/pandas-docs/stable/indexing.html#indexing-view-versus-copy\n",
      "  self[name] = value\n",
      "/Users/erichsieh/miniconda2/envs/pam_modeling_e/lib/python2.7/site-packages/pandas/core/generic.py:2387: SettingWithCopyWarning: \n",
      "A value is trying to be set on a copy of a slice from a DataFrame.\n",
      "Try using .loc[row_indexer,col_indexer] = value instead\n",
      "\n",
      "See the caveats in the documentation: http://pandas.pydata.org/pandas-docs/stable/indexing.html#indexing-view-versus-copy\n",
      "  self[name] = value\n",
      "/Users/erichsieh/miniconda2/envs/pam_modeling_e/lib/python2.7/site-packages/pandas/core/generic.py:2387: SettingWithCopyWarning: \n",
      "A value is trying to be set on a copy of a slice from a DataFrame.\n",
      "Try using .loc[row_indexer,col_indexer] = value instead\n",
      "\n",
      "See the caveats in the documentation: http://pandas.pydata.org/pandas-docs/stable/indexing.html#indexing-view-versus-copy\n",
      "  self[name] = value\n",
      "/Users/erichsieh/miniconda2/envs/pam_modeling_e/lib/python2.7/site-packages/pandas/core/generic.py:2387: SettingWithCopyWarning: \n",
      "A value is trying to be set on a copy of a slice from a DataFrame.\n",
      "Try using .loc[row_indexer,col_indexer] = value instead\n",
      "\n",
      "See the caveats in the documentation: http://pandas.pydata.org/pandas-docs/stable/indexing.html#indexing-view-versus-copy\n",
      "  self[name] = value\n",
      "[Parallel(n_jobs=7)]: Done   1 out of   7 | elapsed:  2.9min remaining: 17.5min\n",
      "[Parallel(n_jobs=7)]: Done   7 out of   7 | elapsed:  3.1min finished\n"
     ]
    }
   ],
   "source": [
    "# iv. generate alerts:\n",
    "june_13_14_2017_alerts.generates_alerts(\n",
    "        m_id, model_pwd,\n",
    "        dataset_config_pwd,\n",
    "        anomaly_map_pwd, alert_config_pwd\n",
    "    )"
   ]
  },
  {
   "cell_type": "code",
   "execution_count": 8,
   "metadata": {
    "collapsed": true,
    "deletable": true,
    "editable": true
   },
   "outputs": [],
   "source": [
    "# v. pkl results:\n",
    "pickle.dump(june_13_14_2017_alerts.alerts_dict, open('jun_13_14_2017_alerts_dict_m_3_0.pkl', 'wb'))\n",
    "pickle.dump(june_13_14_2017_alerts.anoms_df, open('jun_13_14_2017_anoms_df_m_3_0.pkl', 'wb'))"
   ]
  },
  {
   "cell_type": "markdown",
   "metadata": {
    "deletable": true,
    "editable": true
   },
   "source": [
    "# VI. Alerts EDA:"
   ]
  },
  {
   "cell_type": "markdown",
   "metadata": {
    "deletable": true,
    "editable": true
   },
   "source": [
    "## June 13 ~ 14, 2017:"
   ]
  },
  {
   "cell_type": "code",
   "execution_count": 10,
   "metadata": {
    "collapsed": true,
    "deletable": true,
    "editable": true
   },
   "outputs": [],
   "source": [
    "june_13_14_2017_preds_df =\\\n",
    "    combine_preds_df(june_13_14_2017_alerts.alerts_dict)"
   ]
  },
  {
   "cell_type": "code",
   "execution_count": 17,
   "metadata": {
    "collapsed": false,
    "deletable": true,
    "editable": true
   },
   "outputs": [
    {
     "data": {
      "text/plain": [
       "array(['706367', '706161', '503634', '201433', '201434', '505362',\n",
       "       '800936', '506261', '506464', '506862', '701031', '409633',\n",
       "       '707863', '808731', '203541', '306133', '202135', '106531',\n",
       "       '804232', '202033', '502463', '407861', '207861', '503435',\n",
       "       '503434', '201736', '809665', '809663', '808837', '808832',\n",
       "       '700437', '700431', '102365', '408664', '508861', '402931',\n",
       "       '402936', '402937', '700834', '700933', '804633', '804635',\n",
       "       '508162', '105832', '504364', '504365', '504367', '405636',\n",
       "       '203331', '807831', '706863', '706862', '807734', '505761',\n",
       "       '807165', '402632', '402631', '503862', '704766', '700737',\n",
       "       '401534', '700236', '205361', '809433', '702737', '706463',\n",
       "       '402533', '204062', '401032', '108362', '208161', '308061',\n",
       "       '210133', '101464', '702535', '800232', '801634', '800734',\n",
       "       '804133', '412161', '802232', '506769', '707861', '502938',\n",
       "       '804340', '709431', '502163', '508063', '705763', '406234',\n",
       "       '507062', '507063', '507061', '507064', '507065', '503766',\n",
       "       '507364', '507361', '507363', '100532', '503261', '100332',\n",
       "       '406063', '406061', '100233', '405269', '405261', '807962',\n",
       "       '702431', '704663', '104431', '405465', '106361', '802532',\n",
       "       '108961', '403232', '802835', '808165', '405868', '400533',\n",
       "       '300631', '100137', '706263', '301133', '409962', '409963',\n",
       "       '806733', '806737', '408164', '404734', '200433', '203635',\n",
       "       '506664', '506662', '504835', '504962', '102033', '107631',\n",
       "       '502064', '503566', '503565', '503564', '503562', '503561',\n",
       "       '101635', '507161', '503962', '503967', '207361', '207362',\n",
       "       '207363', '812063', '406767', '803132', '500933', '807633',\n",
       "       '806334', '802731', '406864', '704763', '400433', '700637',\n",
       "       '301463', '502161', '504967', '504965', '504963', '504961',\n",
       "       '504968', '500831', '504432'], dtype=object)"
      ]
     },
     "execution_count": 17,
     "metadata": {},
     "output_type": "execute_result"
    }
   ],
   "source": [
    "june_13_14_2017_preds_df['FEEDER'].unique()"
   ]
  },
  {
   "cell_type": "code",
   "execution_count": 28,
   "metadata": {
    "collapsed": true,
    "deletable": true,
    "editable": true
   },
   "outputs": [],
   "source": [
    "multi_row = []\n",
    "\n",
    "for fdr in june_13_14_2017_preds_df['FEEDER'].unique():\n",
    "    loc_df =\\\n",
    "        june_13_14_2017_preds_df.loc[june_13_14_2017_preds_df['FEEDER']==fdr]\n",
    "    if loc_df.shape[0] > 2:\n",
    "        multi_row.append(fdr)"
   ]
  },
  {
   "cell_type": "code",
   "execution_count": 29,
   "metadata": {
    "collapsed": false,
    "deletable": true,
    "editable": true
   },
   "outputs": [
    {
     "data": {
      "text/plain": [
       "['506464',\n",
       " '207861',\n",
       " '105832',\n",
       " '504364',\n",
       " '504365',\n",
       " '504367',\n",
       " '706862',\n",
       " '704766',\n",
       " '205361',\n",
       " '208161',\n",
       " '804133',\n",
       " '506769',\n",
       " '502938',\n",
       " '503261',\n",
       " '106361',\n",
       " '802835',\n",
       " '409962',\n",
       " '506664',\n",
       " '504962',\n",
       " '502064',\n",
       " '503566',\n",
       " '503564',\n",
       " '503562',\n",
       " '507161',\n",
       " '406864',\n",
       " '504967',\n",
       " '504961',\n",
       " '504968']"
      ]
     },
     "execution_count": 29,
     "metadata": {},
     "output_type": "execute_result"
    }
   ],
   "source": [
    "multi_row"
   ]
  },
  {
   "cell_type": "code",
   "execution_count": 31,
   "metadata": {
    "collapsed": false,
    "deletable": true,
    "editable": true
   },
   "outputs": [
    {
     "data": {
      "text/html": [
       "<div>\n",
       "<table border=\"1\" class=\"dataframe\">\n",
       "  <thead>\n",
       "    <tr style=\"text-align: right;\">\n",
       "      <th></th>\n",
       "      <th>FEEDER</th>\n",
       "      <th>TIMESTAMP</th>\n",
       "      <th>PROB</th>\n",
       "      <th>ALERT</th>\n",
       "      <th>TIER</th>\n",
       "      <th>LG_PD_10_24</th>\n",
       "      <th>ZERO_VOLTAGE_V3_24</th>\n",
       "      <th>AFS_GROUND_ALARM_24</th>\n",
       "      <th>FDRHD_DE_ENERGIZED_24</th>\n",
       "      <th>ZERO_POWER_V3_24</th>\n",
       "      <th>INTELI_PH_ALARM_24</th>\n",
       "    </tr>\n",
       "  </thead>\n",
       "  <tbody>\n",
       "    <tr>\n",
       "      <th>0</th>\n",
       "      <td>504968</td>\n",
       "      <td>2017-06-14 15:04:00+00:00</td>\n",
       "      <td>0.058489</td>\n",
       "      <td></td>\n",
       "      <td>0</td>\n",
       "      <td>0</td>\n",
       "      <td>0</td>\n",
       "      <td>0</td>\n",
       "      <td>0</td>\n",
       "      <td>0</td>\n",
       "      <td>3</td>\n",
       "    </tr>\n",
       "    <tr>\n",
       "      <th>1</th>\n",
       "      <td>504968</td>\n",
       "      <td>2017-06-14 15:05:00+00:00</td>\n",
       "      <td>0.058489</td>\n",
       "      <td></td>\n",
       "      <td>0</td>\n",
       "      <td>0</td>\n",
       "      <td>0</td>\n",
       "      <td>1</td>\n",
       "      <td>0</td>\n",
       "      <td>0</td>\n",
       "      <td>3</td>\n",
       "    </tr>\n",
       "    <tr>\n",
       "      <th>2</th>\n",
       "      <td>504968</td>\n",
       "      <td>2017-06-14 15:40:00+00:00</td>\n",
       "      <td>0.058489</td>\n",
       "      <td></td>\n",
       "      <td>0</td>\n",
       "      <td>0</td>\n",
       "      <td>0</td>\n",
       "      <td>2</td>\n",
       "      <td>0</td>\n",
       "      <td>0</td>\n",
       "      <td>3</td>\n",
       "    </tr>\n",
       "  </tbody>\n",
       "</table>\n",
       "</div>"
      ],
      "text/plain": [
       "   FEEDER                 TIMESTAMP      PROB ALERT  TIER  LG_PD_10_24  \\\n",
       "0  504968 2017-06-14 15:04:00+00:00  0.058489           0            0   \n",
       "1  504968 2017-06-14 15:05:00+00:00  0.058489           0            0   \n",
       "2  504968 2017-06-14 15:40:00+00:00  0.058489           0            0   \n",
       "\n",
       "   ZERO_VOLTAGE_V3_24  AFS_GROUND_ALARM_24  FDRHD_DE_ENERGIZED_24  \\\n",
       "0                   0                    0                      0   \n",
       "1                   0                    1                      0   \n",
       "2                   0                    2                      0   \n",
       "\n",
       "   ZERO_POWER_V3_24  INTELI_PH_ALARM_24  \n",
       "0                 0                   3  \n",
       "1                 0                   3  \n",
       "2                 0                   3  "
      ]
     },
     "execution_count": 31,
     "metadata": {},
     "output_type": "execute_result"
    }
   ],
   "source": [
    "june_13_14_2017_preds_df.loc[june_13_14_2017_preds_df['FEEDER']=='504968']"
   ]
  },
  {
   "cell_type": "markdown",
   "metadata": {
    "deletable": true,
    "editable": true
   },
   "source": [
    "## June 15 ~ 16, 2017:"
   ]
  },
  {
   "cell_type": "code",
   "execution_count": null,
   "metadata": {
    "collapsed": true,
    "deletable": true,
    "editable": true
   },
   "outputs": [],
   "source": []
  },
  {
   "cell_type": "markdown",
   "metadata": {
    "deletable": true,
    "editable": true
   },
   "source": [
    "## June 17 ~ 18, 2017:"
   ]
  },
  {
   "cell_type": "code",
   "execution_count": null,
   "metadata": {
    "collapsed": true,
    "deletable": true,
    "editable": true
   },
   "outputs": [],
   "source": []
  },
  {
   "cell_type": "markdown",
   "metadata": {
    "deletable": true,
    "editable": true
   },
   "source": [
    "## June 19 ~ 20, 2017:"
   ]
  },
  {
   "cell_type": "code",
   "execution_count": null,
   "metadata": {
    "collapsed": true,
    "deletable": true,
    "editable": true
   },
   "outputs": [],
   "source": []
  }
 ],
 "metadata": {
  "kernelspec": {
   "display_name": "Python 2",
   "language": "python",
   "name": "python2"
  },
  "language_info": {
   "codemirror_mode": {
    "name": "ipython",
    "version": 2
   },
   "file_extension": ".py",
   "mimetype": "text/x-python",
   "name": "python",
   "nbconvert_exporter": "python",
   "pygments_lexer": "ipython2",
   "version": "2.7.10"
  }
 },
 "nbformat": 4,
 "nbformat_minor": 2
}
